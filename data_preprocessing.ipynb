{
 "cells": [
  {
   "cell_type": "markdown",
   "metadata": {},
   "source": [
    "Import pandas, numpy and matplotlib libraries"
   ]
  },
  {
   "cell_type": "code",
   "execution_count": 59,
   "metadata": {},
   "outputs": [],
   "source": [
    "import pandas as pd\n",
    "import numpy as np\n",
    "import matplotlib.pyplot as plt"
   ]
  },
  {
   "cell_type": "markdown",
   "metadata": {},
   "source": [
    "Import Dataset"
   ]
  },
  {
   "cell_type": "code",
   "execution_count": 60,
   "metadata": {},
   "outputs": [
    {
     "name": "stdout",
     "output_type": "stream",
     "text": [
      "<class 'pandas.core.frame.DataFrame'>\n",
      "RangeIndex: 6435 entries, 0 to 6434\n",
      "Data columns (total 8 columns):\n",
      " #   Column        Non-Null Count  Dtype  \n",
      "---  ------        --------------  -----  \n",
      " 0   Store         6435 non-null   int64  \n",
      " 1   Date          6435 non-null   object \n",
      " 2   Weekly_Sales  6435 non-null   float64\n",
      " 3   Holiday_Flag  6435 non-null   int64  \n",
      " 4   Temperature   6435 non-null   float64\n",
      " 5   Fuel_Price    6435 non-null   float64\n",
      " 6   CPI           6435 non-null   float64\n",
      " 7   Unemployment  6435 non-null   float64\n",
      "dtypes: float64(5), int64(2), object(1)\n",
      "memory usage: 402.3+ KB\n"
     ]
    }
   ],
   "source": [
    "dataset = pd.read_csv('Walmart.csv')\n",
    "\n",
    "dataset.info()"
   ]
  },
  {
   "cell_type": "markdown",
   "metadata": {},
   "source": [
    "Check  for missing data"
   ]
  },
  {
   "cell_type": "code",
   "execution_count": 61,
   "metadata": {},
   "outputs": [
    {
     "name": "stdout",
     "output_type": "stream",
     "text": [
      "Store           False\n",
      "Date            False\n",
      "Weekly_Sales    False\n",
      "Holiday_Flag    False\n",
      "Temperature     False\n",
      "Fuel_Price      False\n",
      "CPI             False\n",
      "Unemployment    False\n",
      "dtype: bool\n"
     ]
    }
   ],
   "source": [
    "has_missing = dataset.isnull().any()\n",
    "print(has_missing)"
   ]
  },
  {
   "cell_type": "markdown",
   "metadata": {},
   "source": [
    "Format Date field into weekday, month and year"
   ]
  },
  {
   "cell_type": "code",
   "execution_count": 62,
   "metadata": {},
   "outputs": [],
   "source": [
    "dataset['Date'] = pd.to_datetime(dataset['Date'],format='%d-%m-%Y')\n",
    "\n",
    "dataset['weekday'] = dataset['Date'].dt.weekday\n",
    "dataset['month'] = dataset['Date'].dt.month\n",
    "dataset['Year'] = dataset['Date'].dt.year\n",
    "\n",
    "dataset.drop(columns=['Date'], inplace=True)"
   ]
  },
  {
   "cell_type": "markdown",
   "metadata": {},
   "source": [
    "Split dataset into matrix of features X and vector of dependent variables y."
   ]
  },
  {
   "cell_type": "code",
   "execution_count": 63,
   "metadata": {},
   "outputs": [],
   "source": [
    "X = pd.concat([dataset.iloc[:, 0:1], dataset.iloc[:, 3:]], axis=1).values\n",
    "y = dataset.iloc[:, 1].values"
   ]
  },
  {
   "cell_type": "code",
   "execution_count": 64,
   "metadata": {},
   "outputs": [
    {
     "name": "stdout",
     "output_type": "stream",
     "text": [
      "[[1.000e+00 4.231e+01 2.572e+00 ... 4.000e+00 2.000e+00 2.010e+03]\n",
      " [1.000e+00 3.851e+01 2.548e+00 ... 4.000e+00 2.000e+00 2.010e+03]\n",
      " [1.000e+00 3.993e+01 2.514e+00 ... 4.000e+00 2.000e+00 2.010e+03]\n",
      " ...\n",
      " [4.500e+01 5.447e+01 4.000e+00 ... 4.000e+00 1.000e+01 2.012e+03]\n",
      " [4.500e+01 5.647e+01 3.969e+00 ... 4.000e+00 1.000e+01 2.012e+03]\n",
      " [4.500e+01 5.885e+01 3.882e+00 ... 4.000e+00 1.000e+01 2.012e+03]]\n"
     ]
    }
   ],
   "source": [
    "print(X)"
   ]
  },
  {
   "cell_type": "code",
   "execution_count": 65,
   "metadata": {},
   "outputs": [
    {
     "name": "stdout",
     "output_type": "stream",
     "text": [
      "[1643690.9  1641957.44 1611968.17 ...  734464.36  718125.53  760281.43]\n"
     ]
    }
   ],
   "source": [
    "print(y)"
   ]
  },
  {
   "cell_type": "markdown",
   "metadata": {},
   "source": [
    "Split dataset into training and test set"
   ]
  },
  {
   "cell_type": "code",
   "execution_count": 66,
   "metadata": {},
   "outputs": [],
   "source": [
    "from sklearn.model_selection import train_test_split\n",
    "X_train, X_test, y_train, y_test = train_test_split(X, y, test_size=0.2)"
   ]
  },
  {
   "cell_type": "markdown",
   "metadata": {},
   "source": [
    "Apply feature scaling (Standardization) on training and test set"
   ]
  },
  {
   "cell_type": "code",
   "execution_count": 67,
   "metadata": {},
   "outputs": [],
   "source": [
    "from sklearn.preprocessing import StandardScaler\n",
    "sc = StandardScaler()\n",
    "sc_y = StandardScaler()"
   ]
  },
  {
   "cell_type": "code",
   "execution_count": 68,
   "metadata": {},
   "outputs": [
    {
     "name": "stdout",
     "output_type": "stream",
     "text": [
      "[[2.600e+01 2.262e+01 2.747e+00 ... 4.000e+00 2.000e+00 2.010e+03]\n",
      " [4.400e+01 6.840e+01 3.776e+00 ... 4.000e+00 6.000e+00 2.012e+03]\n",
      " [3.600e+01 7.224e+01 2.698e+00 ... 4.000e+00 1.000e+01 2.010e+03]\n",
      " ...\n",
      " [2.300e+01 1.558e+01 3.232e+00 ... 4.000e+00 1.000e+00 2.011e+03]\n",
      " [4.100e+01 4.286e+01 3.636e+00 ... 4.000e+00 4.000e+00 2.011e+03]\n",
      " [1.000e+00 7.795e+01 3.501e+00 ... 4.000e+00 6.000e+00 2.012e+03]]\n"
     ]
    }
   ],
   "source": [
    "X_train_scaled = sc.fit_transform(X_train)\n",
    "print(X_train)"
   ]
  },
  {
   "cell_type": "code",
   "execution_count": 69,
   "metadata": {},
   "outputs": [
    {
     "name": "stdout",
     "output_type": "stream",
     "text": [
      "[ 999348.55  340238.38  424956.3  ... 1110706.06 1304481.75 1624477.58]\n"
     ]
    }
   ],
   "source": [
    "y_train_scaled = sc_y.fit_transform(y_train.reshape(-1,1))\n",
    "print(y_train)"
   ]
  },
  {
   "cell_type": "code",
   "execution_count": 70,
   "metadata": {},
   "outputs": [
    {
     "name": "stdout",
     "output_type": "stream",
     "text": [
      "[[9.000e+00 7.085e+01 3.810e+00 ... 4.000e+00 4.000e+00 2.011e+03]\n",
      " [4.500e+01 2.478e+01 3.205e+00 ... 4.000e+00 1.000e+00 2.011e+03]\n",
      " [1.800e+01 7.092e+01 3.629e+00 ... 4.000e+00 6.000e+00 2.012e+03]\n",
      " ...\n",
      " [3.600e+01 5.718e+01 3.129e+00 ... 4.000e+00 1.000e+00 2.012e+03]\n",
      " [4.300e+01 5.998e+01 2.728e+00 ... 4.000e+00 1.100e+01 2.010e+03]\n",
      " [3.800e+01 6.885e+01 3.014e+00 ... 4.000e+00 1.000e+01 2.010e+03]]\n"
     ]
    }
   ],
   "source": [
    "X_test_scaled = sc.fit_transform(X_test)\n",
    "print(X_test)"
   ]
  },
  {
   "cell_type": "code",
   "execution_count": 71,
   "metadata": {},
   "outputs": [
    {
     "data": {
      "text/plain": [
       "array([ 532226.2 ,  654018.95, 1080357.89, ...,  329467.82,  595421.23,\n",
       "        339042.18])"
      ]
     },
     "execution_count": 71,
     "metadata": {},
     "output_type": "execute_result"
    }
   ],
   "source": [
    "y_test_scaled = sc_y.fit_transform(y_test.reshape(-1,1))\n",
    "y_test"
   ]
  },
  {
   "cell_type": "markdown",
   "metadata": {},
   "source": [
    "Export scaled training and test set variables "
   ]
  },
  {
   "cell_type": "code",
   "execution_count": 72,
   "metadata": {},
   "outputs": [
    {
     "name": "stdout",
     "output_type": "stream",
     "text": [
      "Stored 'X_train' (ndarray)\n",
      "Stored 'X_train_scaled' (ndarray)\n",
      "Stored 'X_test' (ndarray)\n",
      "Stored 'X_test_scaled' (ndarray)\n"
     ]
    },
    {
     "name": "stdout",
     "output_type": "stream",
     "text": [
      "Stored 'y_train' (ndarray)\n",
      "Stored 'y_test' (ndarray)\n"
     ]
    }
   ],
   "source": [
    "%store X_train X_train_scaled X_test X_test_scaled y_train y_test"
   ]
  }
 ],
 "metadata": {
  "kernelspec": {
   "display_name": "base",
   "language": "python",
   "name": "python3"
  },
  "language_info": {
   "codemirror_mode": {
    "name": "ipython",
    "version": 3
   },
   "file_extension": ".py",
   "mimetype": "text/x-python",
   "name": "python",
   "nbconvert_exporter": "python",
   "pygments_lexer": "ipython3",
   "version": "3.11.5"
  }
 },
 "nbformat": 4,
 "nbformat_minor": 2
}
